{
  "cells": [
    {
      "cell_type": "markdown",
      "metadata": {
        "id": "view-in-github",
        "colab_type": "text"
      },
      "source": [
        "<a href=\"https://colab.research.google.com/github/SEnikeeva/DeepLearningHW/blob/main/assignment04_CIFAR_classification.ipynb\" target=\"_parent\"><img src=\"https://colab.research.google.com/assets/colab-badge.svg\" alt=\"Open In Colab\"/></a>"
      ]
    },
    {
      "cell_type": "markdown",
      "metadata": {
        "id": "FgzQ5bscUnsm"
      },
      "source": [
        "# Домашнее задание №4\n",
        "\n",
        "##### Автор: [Татьяна Гайнцева](https://www.linkedin.com/in/tgaintseva/), @atmyre"
      ]
    },
    {
      "cell_type": "code",
      "execution_count": null,
      "metadata": {
        "id": "dlo1UHiNUnsp"
      },
      "outputs": [],
      "source": [
        "import numpy as np\n",
        "\n",
        "import torch\n",
        "from torch import nn\n",
        "from torch.nn import functional as F\n",
        "\n",
        "import torchvision\n",
        "from torchvision import datasets, transforms\n",
        "\n",
        "from matplotlib import pyplot as plt\n",
        "from IPython.display import clear_output"
      ]
    },
    {
      "cell_type": "markdown",
      "source": [
        "Это домашнее задание состоит из двух частей. В первой части вам нужно реализовать правильную архитектуру сверточной нейросети. Во второй части — подобрать хорошую архитектуру и обучить ее на датасете CIFAR так, чтобы результаты метрики accuracy на тестовой части CIFAR были больше 55%"
      ],
      "metadata": {
        "id": "vdRDK1t0Wgxy"
      }
    },
    {
      "cell_type": "markdown",
      "source": [
        "## Задача №1: \n",
        "В этом задании вам нужно заполнить пропуски в ячейке ниже, чтобы получилась сверточная нейросеть с заданными параметрами. "
      ],
      "metadata": {
        "id": "GmVeuJosbxFD"
      }
    },
    {
      "cell_type": "markdown",
      "source": [
        "Архитектура сети: \n",
        "**conv1 -> maxpool1 -> conv2 -> maxpool2 -> flatten -> fc1 -> fc2**\n",
        "\n",
        "- conv1: 3 фильтра размера (5, 5);\n",
        "- maxpool1: ядро размера 2;\n",
        "- conv2: 5 фильтров размера (3, 3);\n",
        "- maxpool2: ядро размера 2;\n",
        "- fc1: 100 нейронов на выходе;\n",
        "- fc2: 10 нейронов на выходе.\n",
        "\n",
        "После сверточных слоев и первого полносвязного слоя нужно применить функцию активации ReLU.\n",
        "\n",
        "**Нейросеть должна работать с изображениями размера 32х32**."
      ],
      "metadata": {
        "id": "QwGlvTT-b5tW"
      }
    },
    {
      "cell_type": "code",
      "source": [
        "class ConvNet(nn.Module):\n",
        "    def __init__(self):\n",
        "        super().__init__()\n",
        "        \n",
        "        # ВАШ КОД ЗДЕСЬ\n",
        "        # определите слои сети\n",
        "\n",
        "        self.conv1 = nn.Conv2d(in_channels=3, out_channels=3, kernel_size=(5,5))\n",
        "        self.pool1 = nn.MaxPool2d(kernel_size=(2, 2))\n",
        "        self.conv2 = nn.Conv2d(in_channels=3, out_channels=5, kernel_size=(3,3))\n",
        "        self.pool2 = nn.MaxPool2d(kernel_size=(2, 2))\n",
        "        \n",
        "        self.flatten = nn.Flatten()\n",
        "\n",
        "        self.fc1 = nn.Linear(5 * 6 * 6, 100)\n",
        "        self.fc2 = nn.Linear(100, 10)\n",
        "\n",
        "\n",
        "    \n",
        "    def forward(self, x):\n",
        "        # размерность х ~ [64, 3, 32, 32]\n",
        "        \n",
        "        # ВАШ КОД ЗДЕСЬ\n",
        "        # реализуйте forward pass сети\n",
        "\n",
        "        x = F.relu(self.conv1(x))\n",
        "        x = self.pool1(x)\n",
        "        x = F.relu(self.conv2(x))\n",
        "        x = self.pool2(x)\n",
        "        x = self.flatten(x)\n",
        "        x = F.relu(self.fc1(x))\n",
        "        x = self.fc2(x)\n",
        "        return x"
      ],
      "metadata": {
        "id": "zEQy7-AEb9--"
      },
      "execution_count": null,
      "outputs": []
    },
    {
      "cell_type": "markdown",
      "source": [
        "### Проверка"
      ],
      "metadata": {
        "id": "0nouGfm_gDFD"
      }
    },
    {
      "cell_type": "markdown",
      "source": [
        "Ячейки ниже помогут проверить, что модель написана и работает правильно. "
      ],
      "metadata": {
        "id": "TMWATEWKgFgp"
      }
    },
    {
      "cell_type": "code",
      "source": [
        "# Эта ячейка не должна выдавать ошибку. \n",
        "# Если при исполнении ячейки возникает ошибка, то в вашей реализации нейросети есть баги.\n",
        "img = torch.Tensor(np.random.random((32, 3, 32, 32)))\n",
        "model = ConvNet()\n",
        "out = model(img)"
      ],
      "metadata": {
        "id": "xVbCt6AffvNp"
      },
      "execution_count": null,
      "outputs": []
    },
    {
      "cell_type": "code",
      "source": [
        "model.pool1.kernel_size"
      ],
      "metadata": {
        "colab": {
          "base_uri": "https://localhost:8080/"
        },
        "id": "RZCEtKuI8Bva",
        "outputId": "a26b790a-7e1f-4010-a0a4-d899d4b051e6"
      },
      "execution_count": null,
      "outputs": [
        {
          "output_type": "execute_result",
          "data": {
            "text/plain": [
              "(2, 2)"
            ]
          },
          "metadata": {},
          "execution_count": 35
        }
      ]
    },
    {
      "cell_type": "markdown",
      "source": [
        "Ячейка ниже проверяет, что устройство сети верное."
      ],
      "metadata": {
        "id": "HmVRmDEfgdoH"
      }
    },
    {
      "cell_type": "code",
      "source": [
        "# conv1\n",
        "assert model.conv1.kernel_size == (5, 5), \"неверный размер ядра у conv1\"\n",
        "assert model.conv1.in_channels == 3, \"неверный размер in_channels у conv1\"\n",
        "assert model.conv1.out_channels == 3, \"неверный размер out_channels у conv1\"\n",
        "\n",
        "# pool1\n",
        "assert model.pool1.kernel_size == (2, 2), \"неверный размер ядра у pool1\"\n",
        "\n",
        "# conv2\n",
        "assert model.conv2.kernel_size == (3, 3), \"неверный размер ядра у conv2\"\n",
        "assert model.conv2.in_channels == 3, \"неверный размер in_channels у conv2\"\n",
        "assert model.conv2.out_channels == 5, \"неверный размер out_channels у conv2\"\n",
        "\n",
        "# pool2\n",
        "assert model.pool1.kernel_size == (2, 2), \"неверный размер ядра у pool2\"\n",
        "\n",
        "# fc1\n",
        "assert model.fc1.out_features == 100, \"неверный размер out_features у fc1\"\n",
        "# fc2\n",
        "assert model.fc2.out_features == 10, \"неверный размер out_features у fc2\""
      ],
      "metadata": {
        "id": "iZ_t7mCDesVU"
      },
      "execution_count": null,
      "outputs": []
    },
    {
      "cell_type": "markdown",
      "source": [
        "### Сдача задания"
      ],
      "metadata": {
        "id": "dtKvuJRHqM_d"
      }
    },
    {
      "cell_type": "markdown",
      "source": [
        "Если обе ячейки отработали без ошибок, можно сдавать задание в первую задачу на Я.Контесте. \n",
        "Для этого нужно скопировать класс ConvNet в нужное место в `submission_template04.py` и отправить `submission_template04.py` в Я.Контест."
      ],
      "metadata": {
        "id": "QybQ4rtQgppH"
      }
    },
    {
      "cell_type": "markdown",
      "metadata": {
        "id": "obC9bnWsUnsr"
      },
      "source": [
        "## Задача №2: \n",
        "Вернемся к задаче классификации картинок [CIFAR](https://www.cs.toronto.edu/~kriz/cifar.html).\n",
        "\n",
        "__Ваша основная задача: реализовать весь пайплан обучения модели и добиться хорошего значения метрики accuracy на тестовой выборке.__\n",
        "Баллы за задание:\n",
        "- **0**, если accuracy на тестовой выборке <0.5;\n",
        "- **0.5**, если accuracy на тестовой выборке >0.5 и <0.56;\n",
        "- **1**, если accuracy на тестовой выборке >0.56;\n",
        "\n",
        "Код для обучения модели в данном задании полностью реализован. Вам нужно лишь написать код класса нейросети и поэкспериментировать с параметрами так, чтобы получить хорошее качество. В качестве основы архитектуры сети можно взять сеть из задачи №1. "
      ]
    },
    {
      "cell_type": "markdown",
      "source": [
        "**! Перед выполнением этого задания рекомендуем включить GPU в настройках колаба.** Это поможет обучать нейросеть быстрее. \n",
        "\n",
        "Чтобы включить GPU, перейдите Edit->Notebook settings и выберите Hardware accelerator=GPU. Нажмите save. "
      ],
      "metadata": {
        "id": "izGM3kjrhbCk"
      }
    },
    {
      "cell_type": "code",
      "source": [
        "import numpy as np\n",
        "\n",
        "import torch\n",
        "from torch import nn\n",
        "from torch.nn import functional as F\n",
        "\n",
        "import torchvision\n",
        "from torchvision import datasets, transforms\n",
        "\n",
        "from matplotlib import pyplot as plt\n",
        "from IPython.display import clear_output"
      ],
      "metadata": {
        "id": "ZUgd4OiDh4EP"
      },
      "execution_count": null,
      "outputs": []
    },
    {
      "cell_type": "markdown",
      "source": [
        "### Загрузка данных"
      ],
      "metadata": {
        "id": "i5VkRn8eYCL3"
      }
    },
    {
      "cell_type": "markdown",
      "source": [
        "Код загрузки данных тот же, что был на занятии. Менять ничего не нужно."
      ],
      "metadata": {
        "id": "w5-HED1XYV96"
      }
    },
    {
      "cell_type": "code",
      "execution_count": null,
      "metadata": {
        "id": "-31e0aCCUnss",
        "colab": {
          "base_uri": "https://localhost:8080/",
          "height": 101,
          "referenced_widgets": [
            "d0df1dfcd7654d3080a6002907847e4b",
            "fdb34af829ba4a60988b24b4d240c1c5",
            "5a12a372a5844bfcad4f54aef64f2461",
            "4d7cd5b4fbb94b82ba186bd1486b3015",
            "7cba8b8957fc4459ad0cf6dfcf7590d1",
            "06431975dd574ceea76fe6f0f55b1ab8",
            "da47fc769c284ab985ac724922aa9cd0",
            "ee9407eae5a4452097bd72e46adbedcd",
            "38fb002aa6884667aba2c31ef01a1a40",
            "970b6687994441c8bd745e9b7e812e07",
            "1e84fb1b3d33438aa190e1aacd99a97b"
          ]
        },
        "outputId": "070a0506-1775-4e0c-eda8-f776913098f1"
      },
      "outputs": [
        {
          "output_type": "stream",
          "name": "stdout",
          "text": [
            "Downloading https://www.cs.toronto.edu/~kriz/cifar-10-python.tar.gz to ./cifar10_data/cifar-10-python.tar.gz\n"
          ]
        },
        {
          "output_type": "display_data",
          "data": {
            "text/plain": [
              "  0%|          | 0/170498071 [00:00<?, ?it/s]"
            ],
            "application/vnd.jupyter.widget-view+json": {
              "version_major": 2,
              "version_minor": 0,
              "model_id": "d0df1dfcd7654d3080a6002907847e4b"
            }
          },
          "metadata": {}
        },
        {
          "output_type": "stream",
          "name": "stdout",
          "text": [
            "Extracting ./cifar10_data/cifar-10-python.tar.gz to ./cifar10_data\n",
            "Files already downloaded and verified\n"
          ]
        }
      ],
      "source": [
        "# загружаем датасет из torchvision\n",
        "train_data = datasets.CIFAR10(root=\"./cifar10_data\", train=True, download=True, transform=transforms.ToTensor())\n",
        "test_data = datasets.CIFAR10(root=\"./cifar10_data\", train=False, download=True, transform=transforms.ToTensor())\n",
        "\n",
        "# делим тренировочную часть на train и val\n",
        "\n",
        "# в тренировочную выборку отнесем 80% всех картинок\n",
        "train_size = int(len(train_data) * 0.8)\n",
        "# в валидационную — остальные 20%\n",
        "val_size = len(train_data) - train_size\n",
        "\n",
        "train_data, val_data = torch.utils.data.random_split(train_data, [train_size, val_size])\n",
        "\n",
        "# заводим даталоадеры, которые будут генерировать батчи\n",
        "train_loader = torch.utils.data.DataLoader(train_data, batch_size=64, shuffle=True)\n",
        "val_loader = torch.utils.data.DataLoader(val_data, batch_size=64, shuffle=False)\n",
        "test_loader = torch.utils.data.DataLoader(test_data, batch_size=64, shuffle=False)"
      ]
    },
    {
      "cell_type": "markdown",
      "source": [
        "Посмотрим на несколько картинок из датасета:"
      ],
      "metadata": {
        "id": "3xJCM2lZYjtR"
      }
    },
    {
      "cell_type": "code",
      "source": [
        "# функция отрисовки картинок\n",
        "def show_images(images, labels):\n",
        "    f, axes= plt.subplots(1, 10, figsize=(30,5))\n",
        "    \n",
        "    for i, axis in enumerate(axes):\n",
        "        # переводим картинку из тензора в numpy\n",
        "        img = images[i].numpy()\n",
        "        # переводим картинку в размерность (длина, ширина, цветовые каналы) \n",
        "        img = np.transpose(img, (1, 2, 0))\n",
        "\n",
        "        axes[i].imshow(img)\n",
        "        axes[i].set_title(labels[i].numpy())\n",
        "\n",
        "    plt.show()\n",
        "\n",
        "# получаем батч картинок\n",
        "for batch in train_loader:\n",
        "    images, labels = batch\n",
        "    break\n",
        "\n",
        "show_images(images, labels)"
      ],
      "metadata": {
        "id": "R7ZBNxsLYvMP",
        "colab": {
          "base_uri": "https://localhost:8080/",
          "height": 155
        },
        "outputId": "f04b03b5-eccb-4f9b-d33e-1200de2b98f1"
      },
      "execution_count": null,
      "outputs": [
        {
          "output_type": "display_data",
          "data": {
            "text/plain": [
              "<Figure size 2160x360 with 10 Axes>"
            ],
            "image/png": "[encoded data removed]"
          },
          "metadata": {
            "needs_background": "light"
          }
        }
      ]
    },
    {
      "cell_type": "markdown",
      "source": [
        "### Построение модели"
      ],
      "metadata": {
        "id": "EAbF9VCHifUg"
      }
    },
    {
      "cell_type": "markdown",
      "metadata": {
        "id": "ZN-AYLsyUnsu"
      },
      "source": [
        "Ниже — ячейка для построения модели. Не стоит сразу делать большую и сложную модель с большим количеством слоев: такая сеть будет обучаться очень долго и, скорее всего, переобучится. \n",
        "\n",
        "Ваша основная задача – обучить модель и получить качество на отложенной (тестовой выборке) не менее 56% accuracy.\n",
        "\n",
        "__Внимание: ваша модель должна быть представлена именно переменной `model`.__"
      ]
    },
    {
      "cell_type": "markdown",
      "source": [
        "Идеи, что можно попробовать, чтобы улучшить результат сети:\n",
        "\n",
        "- попробовать разное количество сверточных и полносвязных слоев;\n",
        "- попробовать разное количество фильтров в сверточных слоях;\n",
        "- попробовать разное количество нейронов в скрытых полносвязных слоях;\n",
        "- попробовать добавить/убрать max_pooling;\n",
        "- поменять learning_rate;\n",
        "- обучать сеть большее количество эпох.\n",
        "\n",
        "Если ваша модель переобучается (метрика на валидации нацинает становиться хуже), попробуйте уменьшить количество параметров модели. Если модель не переобучается, но показывает плохой результат, попробуйте увеличить количество параметров модели."
      ],
      "metadata": {
        "id": "QFaM1UeWaE4K"
      }
    },
    {
      "cell_type": "code",
      "execution_count": null,
      "metadata": {
        "id": "3UyozaPnUnsu"
      },
      "outputs": [],
      "source": [
        "class ConvNet(nn.Module):\n",
        "    def __init__(self):\n",
        "        super().__init__()\n",
        "        \n",
        "        # размер исходной картинки 32х32\n",
        "\n",
        "        # conv 1\n",
        "        self.conv1 = nn.Conv2d(in_channels=3, out_channels=6, kernel_size=(3,3), padding=1) #32x32\n",
        "        self.bn1 = nn.BatchNorm2d(6)\n",
        "        # pool\n",
        "        self.pool1 = nn.MaxPool2d(kernel_size=(2,2)) #16x16\n",
        "        # conv 2\n",
        "        self.conv2 = nn.Conv2d(in_channels=6, out_channels=9, kernel_size=(3,3)) #14x14\n",
        "        self.bn2 = nn.BatchNorm2d(9)\n",
        "\n",
        "         # pool\n",
        "        self.pool2 = nn.MaxPool2d(kernel_size=(2,2)) #16x16\n",
        "        # conv 2\n",
        "        self.conv3 = nn.Conv2d(in_channels=9, out_channels=14, kernel_size=(3,3)) #14x14\n",
        "        self.bn3 = nn.BatchNorm2d(14)\n",
        "        \n",
        "        # flatten\n",
        "        self.flatten = nn.Flatten()\n",
        "\n",
        "        # linear 1\n",
        "        self.fc1 = nn.Linear(14 * 5 * 5, 1024)\n",
        "        # linear 2\n",
        "        self.fc2 = nn.Linear(1024, 128)\n",
        "        self.fc3 = nn.Linear(128, 10)\n",
        "\n",
        "    \n",
        "    def forward(self, x):\n",
        "        # forward pass сети\n",
        "\n",
        "        x = F.relu(self.conv1(x))\n",
        "        x = self.bn1(x)\n",
        "\n",
        "        x = self.pool1(x)\n",
        "        x = F.relu(self.conv2(x))\n",
        "        x = self.bn2(x)\n",
        "\n",
        "        x = self.pool2(x)\n",
        "        x = F.relu(self.conv3(x))\n",
        "        x = self.bn3(x)\n",
        "        x = self.flatten(x)\n",
        "    \n",
        "        x = F.relu(self.fc1(x))\n",
        "        x = F.relu(self.fc2(x))\n",
        "        x = self.fc3(x)\n",
        "        \n",
        "        return x"
      ]
    },
    {
      "cell_type": "code",
      "source": [
        "model = ConvNet()"
      ],
      "metadata": {
        "id": "MFpILkiXhEz-"
      },
      "execution_count": null,
      "outputs": []
    },
    {
      "cell_type": "code",
      "source": [
        "from torchvision.models.resnet import resnet50, resnet18"
      ],
      "metadata": {
        "id": "hRR5H-Unvrzb"
      },
      "execution_count": null,
      "outputs": []
    },
    {
      "cell_type": "code",
      "source": [
        "model = resnet50()"
      ],
      "metadata": {
        "id": "gK67X-Fmv9oL"
      },
      "execution_count": null,
      "outputs": []
    },
    {
      "cell_type": "markdown",
      "source": [
        "Ячейка ниже проверяет, доступен ли GPU и если да, то переносит нейросеть на GPU."
      ],
      "metadata": {
        "id": "1reimxeCh9BA"
      }
    },
    {
      "cell_type": "code",
      "source": [
        "device = torch.device(\"cuda\" if torch.cuda.is_available() else \"cpu\")\n",
        "print(device)\n",
        "model = model.to(device)"
      ],
      "metadata": {
        "id": "keaqEK3ug9rd",
        "colab": {
          "base_uri": "https://localhost:8080/"
        },
        "outputId": "587880b4-bf32-45c2-817c-d14039490333"
      },
      "execution_count": null,
      "outputs": [
        {
          "output_type": "stream",
          "name": "stdout",
          "text": [
            "cuda\n"
          ]
        }
      ]
    },
    {
      "cell_type": "markdown",
      "source": [
        "### Обучение модели"
      ],
      "metadata": {
        "id": "iKghv45uiEqo"
      }
    },
    {
      "cell_type": "markdown",
      "metadata": {
        "id": "b2onmgyzUntQ"
      },
      "source": [
        "Функция обучения сети (ее менять не нужно).\n",
        "\n",
        "Функция выводит текущие значения лосса и accuracy на train выборке каждые 50 итераций обучения. Также после каждой эпохи считается и выводится лосс и accuracy на val выборке. По этим значениям можно понимать, как хорошо обучается ваша модель."
      ]
    },
    {
      "cell_type": "code",
      "execution_count": null,
      "metadata": {
        "id": "jYsRSxVjUntR"
      },
      "outputs": [],
      "source": [
        "def evaluate(model, dataloader, loss_fn):\n",
        "    \n",
        "    losses = []\n",
        "\n",
        "    num_correct = 0\n",
        "    num_elements = 0\n",
        "\n",
        "    for i, batch in enumerate(dataloader):\n",
        "        \n",
        "        # так получаем текущий батч\n",
        "        X_batch, y_batch = batch\n",
        "        num_elements += len(y_batch)\n",
        "        \n",
        "        with torch.no_grad():\n",
        "            logits = model(X_batch.to(device))\n",
        "            \n",
        "            loss = loss_fn(logits, y_batch.to(device))\n",
        "            losses.append(loss.item())\n",
        "            \n",
        "            y_pred = torch.argmax(logits, dim=1)\n",
        "            \n",
        "            num_correct += torch.sum(y_pred.cpu() == y_batch)\n",
        "    \n",
        "    accuracy = num_correct / num_elements\n",
        "            \n",
        "    return accuracy.numpy(), np.mean(losses)\n",
        "\n",
        "def train(model, loss_fn, optimizer, n_epoch=3):\n",
        "    \n",
        "    # цикл обучения сети\n",
        "    for epoch in range(n_epoch):\n",
        "\n",
        "        print(\"Epoch:\", epoch+1)\n",
        "\n",
        "        model.train(True)\n",
        "        \n",
        "        running_losses = []\n",
        "        running_accuracies = []\n",
        "        for i, batch in enumerate(train_loader):\n",
        "            # так получаем текущий батч\n",
        "            X_batch, y_batch = batch \n",
        "            \n",
        "            # forward pass (получение ответов на батч картинок)\n",
        "            logits = model(X_batch.to(device)) \n",
        "            \n",
        "            # вычисление лосса от выданных сетью ответов и правильных ответов на батч\n",
        "            loss = loss_fn(logits, y_batch.to(device)) \n",
        "            running_losses.append(loss.item())\n",
        "            \n",
        "            loss.backward() # backpropagation (вычисление градиентов)\n",
        "            optimizer.step() # обновление весов сети\n",
        "            optimizer.zero_grad() # обнуляем веса\n",
        "            \n",
        "            # вычислим accuracy на текущем train батче\n",
        "            model_answers = torch.argmax(logits, dim=1)\n",
        "            train_accuracy = torch.sum(y_batch == model_answers.cpu()) / len(y_batch)\n",
        "            running_accuracies.append(train_accuracy)\n",
        "\n",
        "            # Логирование результатов\n",
        "            if (i+1) % 100 == 0:\n",
        "                print(\"Средние train лосс и accuracy на последних 50 итерациях:\", \n",
        "                      np.mean(running_losses), np.mean(running_accuracies), end='\\n')\n",
        "\n",
        "        # после каждой эпохи получаем метрику качества на валидационной выборке\n",
        "        model.train(False)\n",
        "\n",
        "        val_accuracy, val_loss = evaluate(model, val_loader, loss_fn=loss_fn)\n",
        "        print(\"Эпоха {}/{}: val лосс и accuracy:\".format(epoch+1, n_epoch,), \n",
        "                      val_loss, val_accuracy, end='\\n')\n",
        "        \n",
        "    return model"
      ]
    },
    {
      "cell_type": "markdown",
      "source": [
        "Запускаем обучение. "
      ],
      "metadata": {
        "id": "qEBr1qTOjfo3"
      }
    },
    {
      "cell_type": "code",
      "source": [
        "# снова объявим модель\n",
        "model = ConvNet()\n",
        "device = torch.device(\"cuda\" if torch.cuda.is_available() else \"cpu\")\n",
        "model = model.to(device)\n",
        "\n",
        "# выбираем функцию потерь\n",
        "loss_fn = torch.nn.CrossEntropyLoss()\n",
        "\n",
        "# выбираем алгоритм оптимизации и learning_rate. \n",
        "# вы можете экспериментировать с разными значениями learning_rate\n",
        "learning_rate = 0.003\n",
        "\n",
        "optimizer = torch.optim.SGD(model.parameters(), learning_rate,\n",
        "                                            momentum=0.9,\n",
        "                                            weight_decay=1e-4)"
      ],
      "metadata": {
        "id": "KYqzqj02jZly"
      },
      "execution_count": null,
      "outputs": []
    },
    {
      "cell_type": "code",
      "source": [
        "# запустим обучение модели\n",
        "# параметр n_epoch можно варьировать\n",
        "model = train(model, loss_fn, optimizer, n_epoch=25)"
      ],
      "metadata": {
        "id": "QMgy5EGsnEZt",
        "colab": {
          "base_uri": "https://localhost:8080/"
        },
        "outputId": "fb84682c-57bd-4a5e-e23c-0139c6a96cbf"
      },
      "execution_count": null,
      "outputs": [
        {
          "output_type": "stream",
          "name": "stdout",
          "text": [
            "Epoch: 1\n",
            "Средние train лосс и accuracy на последних 50 итерациях: 2.2393689584732055 0.178125\n",
            "Средние train лосс и accuracy на последних 50 итерациях: 2.071011548638344 0.241875\n",
            "Средние train лосс и accuracy на последних 50 итерациях: 1.963922135035197 0.27864584\n",
            "Средние train лосс и accuracy на последних 50 итерациях: 1.8782746016979217 0.3078125\n",
            "Средние train лосс и accuracy на последних 50 итерациях: 1.8102673478126525 0.33128124\n",
            "Средние train лосс и accuracy на последних 50 итерациях: 1.7546979600191117 0.35427085\n",
            "Эпоха 1/25: val лосс и accuracy: 1.6390155887907478 0.4026\n",
            "Epoch: 2\n",
            "Средние train лосс и accuracy на последних 50 итерациях: 1.4134766793251037 0.47765625\n",
            "Средние train лосс и accuracy на последних 50 итерациях: 1.386776333451271 0.48992187\n",
            "Средние train лосс и accuracy на последних 50 итерациях: 1.374029933611552 0.49677083\n",
            "Средние train лосс и accuracy на последних 50 итерациях: 1.3518820610642432 0.50597656\n",
            "Средние train лосс и accuracy на последних 50 итерациях: 1.345855894088745 0.5093125\n",
            "Средние train лосс и accuracy на последних 50 итерациях: 1.3332279874881108 0.51484376\n",
            "Эпоха 2/25: val лосс и accuracy: 1.5475998410753384 0.4497\n",
            "Epoch: 3\n",
            "Средние train лосс и accuracy на последних 50 итерациях: 1.2096412432193757 0.559375\n",
            "Средние train лосс и accuracy на последних 50 итерациях: 1.21433251619339 0.55890626\n",
            "Средние train лосс и accuracy на последних 50 итерациях: 1.1993504367272059 0.5665625\n",
            "Средние train лосс и accuracy на последних 50 итерациях: 1.1977137492597103 0.5685547\n",
            "Средние train лосс и accuracy на последних 50 итерациях: 1.18707470870018 0.5729687\n",
            "Средние train лосс и accuracy на последних 50 итерациях: 1.1788886363307636 0.57708335\n",
            "Эпоха 3/25: val лосс и accuracy: 1.6047435330737168 0.463\n",
            "Epoch: 4\n",
            "Средние train лосс и accuracy на последних 50 итерациях: 1.0752653896808624 0.6178125\n",
            "Средние train лосс и accuracy на последних 50 итерациях: 1.073257991671562 0.6145313\n",
            "Средние train лосс и accuracy на последних 50 итерациях: 1.075932748913765 0.61286455\n",
            "Средние train лосс и accuracy на последних 50 итерациях: 1.072780689895153 0.6157031\n",
            "Средние train лосс и accuracy на последних 50 итерациях: 1.068236135482788 0.6190938\n",
            "Средние train лосс и accuracy на последних 50 итерациях: 1.0674422627687454 0.6201562\n",
            "Эпоха 4/25: val лосс и accuracy: 1.1075075534498615 0.5974\n",
            "Epoch: 5\n",
            "Средние train лосс и accuracy на последних 50 итерациях: 0.9921922504901886 0.6503125\n",
            "Средние train лосс и accuracy на последних 50 итерациях: 0.9798794704675674 0.6527344\n",
            "Средние train лосс и accuracy на последних 50 итерациях: 0.9825283356507619 0.6507292\n",
            "Средние train лосс и accuracy на последних 50 итерациях: 0.9831936667859554 0.64921874\n",
            "Средние train лосс и accuracy на последних 50 итерациях: 0.9832724144458771 0.65075\n",
            "Средние train лосс и accuracy на последних 50 итерациях: 0.9821793321768443 0.6520052\n",
            "Эпоха 5/25: val лосс и accuracy: 1.0693081617355347 0.616\n",
            "Epoch: 6\n",
            "Средние train лосс и accuracy на последних 50 итерациях: 0.9267188590765 0.66859376\n",
            "Средние train лосс и accuracy на последних 50 итерациях: 0.9181651848554612 0.674375\n",
            "Средние train лосс и accuracy на последних 50 итерациях: 0.9075199814637502 0.67854166\n",
            "Средние train лосс и accuracy на последних 50 итерациях: 0.9122518725693226 0.6777734\n",
            "Средние train лосс и accuracy на последних 50 итерациях: 0.9122571341991424 0.677875\n",
            "Средние train лосс и accuracy на последних 50 итерациях: 0.9113819234569868 0.67859375\n",
            "Эпоха 6/25: val лосс и accuracy: 1.0428421983293668 0.6353\n",
            "Epoch: 7\n",
            "Средние train лосс и accuracy на последних 50 итерациях: 0.8389895069599151 0.70171875\n",
            "Средние train лосс и accuracy на последних 50 итерациях: 0.8546493512392044 0.69609374\n",
            "Средние train лосс и accuracy на последних 50 итерациях: 0.8506644936402639 0.6981771\n",
            "Средние train лосс и accuracy на последних 50 итерациях: 0.8432896496355533 0.70054686\n",
            "Средние train лосс и accuracy на последних 50 итерациях: 0.8465700619220734 0.6995625\n",
            "Средние train лосс и accuracy на последних 50 итерациях: 0.848823331395785 0.6988281\n",
            "Эпоха 7/25: val лосс и accuracy: 0.9663386033598784 0.6596\n",
            "Epoch: 8\n",
            "Средние train лосс и accuracy на последних 50 итерациях: 0.7848543334007263 0.721875\n",
            "Средние train лосс и accuracy на последних 50 итерациях: 0.7886110168695449 0.71984375\n",
            "Средние train лосс и accuracy на последних 50 итерациях: 0.7811572380860646 0.7214583\n",
            "Средние train лосс и accuracy на последних 50 итерациях: 0.7834970514476299 0.7203516\n",
            "Средние train лосс и accuracy на последних 50 итерациях: 0.7898891615867615 0.718875\n",
            "Средние train лосс и accuracy на последних 50 итерациях: 0.7878916536768278 0.72010416\n",
            "Эпоха 8/25: val лосс и accuracy: 1.0551951516206097 0.6368\n",
            "Epoch: 9\n",
            "Средние train лосс и accuracy на последних 50 итерациях: 0.7082912129163742 0.7475\n",
            "Средние train лосс и accuracy на последних 50 итерациях: 0.7123058165609837 0.7484375\n",
            "Средние train лосс и accuracy на последних 50 итерациях: 0.7113099526365598 0.7478646\n",
            "Средние train лосс и accuracy на последних 50 итерациях: 0.7193245334923267 0.7444141\n",
            "Средние train лосс и accuracy на последних 50 итерациях: 0.7256480160951614 0.74340624\n",
            "Средние train лосс и accuracy на последних 50 итерациях: 0.7324254363278548 0.74210936\n",
            "Эпоха 9/25: val лосс и accuracy: 1.0699064443065862 0.6292\n",
            "Epoch: 10\n",
            "Средние train лосс и accuracy на последних 50 итерациях: 0.6312999033927917 0.77953124\n",
            "Средние train лосс и accuracy на последних 50 итерациях: 0.6607248274981976 0.7664844\n",
            "Средние train лосс и accuracy на последних 50 итерациях: 0.6603847243388494 0.7655208\n",
            "Средние train лосс и accuracy на последних 50 итерациях: 0.6623055803775787 0.7650781\n",
            "Средние train лосс и accuracy на последних 50 итерациях: 0.6700417976379395 0.76290625\n",
            "Средние train лосс и accuracy на последних 50 итерациях: 0.6737224221229553 0.7614844\n",
            "Эпоха 10/25: val лосс и accuracy: 1.0305644558493499 0.6551\n",
            "Epoch: 11\n",
            "Средние train лосс и accuracy на последних 50 итерациях: 0.5766385966539382 0.80125\n",
            "Средние train лосс и accuracy на последних 50 итерациях: 0.5896528144180775 0.7975781\n",
            "Средние train лосс и accuracy на последних 50 итерациях: 0.5951007852951685 0.79515624\n",
            "Средние train лосс и accuracy на последних 50 итерациях: 0.597273161187768 0.7928125\n",
            "Средние train лосс и accuracy на последних 50 итерациях: 0.6045245982408524 0.7889063\n",
            "Средние train лосс и accuracy на последних 50 итерациях: 0.6126228019595146 0.78617185\n",
            "Эпоха 11/25: val лосс и accuracy: 0.9981413479823216 0.6644\n",
            "Epoch: 12\n",
            "Средние train лосс и accuracy на последних 50 итерациях: 0.5064138984680175 0.8265625\n",
            "Средние train лосс и accuracy на последних 50 итерациях: 0.5260473830997944 0.81757814\n",
            "Средние train лосс и accuracy на последних 50 итерациях: 0.5356244281927744 0.813125\n",
            "Средние train лосс и accuracy на последних 50 итерациях: 0.5464790216833353 0.80753905\n",
            "Средние train лосс и accuracy на последних 50 итерациях: 0.555109868824482 0.803375\n",
            "Средние train лосс и accuracy на последних 50 итерациях: 0.5606408045689265 0.8016406\n",
            "Эпоха 12/25: val лосс и accuracy: 1.1202318546878305 0.637\n",
            "Epoch: 13\n",
            "Средние train лосс и accuracy на последних 50 итерациях: 0.4661913359165192 0.843125\n",
            "Средние train лосс и accuracy на последних 50 итерациях: 0.48378334641456605 0.8347656\n",
            "Средние train лосс и accuracy на последних 50 итерациях: 0.4773819982012113 0.8336979\n",
            "Средние train лосс и accuracy на последних 50 итерациях: 0.4863483616709709 0.83023435\n",
            "Средние train лосс и accuracy на последних 50 итерациях: 0.4966543008685112 0.82615626\n",
            "Средние train лосс и accuracy на последних 50 итерациях: 0.49880442922314006 0.825\n",
            "Эпоха 13/25: val лосс и accuracy: 1.1422170017175615 0.6408\n",
            "Epoch: 14\n",
            "Средние train лосс и accuracy на последних 50 итерациях: 0.40366216212511064 0.86609375\n",
            "Средние train лосс и accuracy на последних 50 итерациях: 0.40047392942011356 0.8653125\n",
            "Средние train лосс и accuracy на последних 50 итерациях: 0.4137598500152429 0.8590104\n",
            "Средние train лосс и accuracy на последних 50 итерациях: 0.4229748864471912 0.8550781\n",
            "Средние train лосс и accuracy на последних 50 итерациях: 0.43184076008200645 0.85028124\n",
            "Средние train лосс и accuracy на последних 50 итерациях: 0.4414918620636066 0.8467448\n",
            "Эпоха 14/25: val лосс и accuracy: 1.2161203022975071 0.6346\n",
            "Epoch: 15\n",
            "Средние train лосс и accuracy на последних 50 итерациях: 0.34779936864972116 0.88109374\n",
            "Средние train лосс и accuracy на последних 50 итерациях: 0.3509230288863182 0.8769531\n",
            "Средние train лосс и accuracy на последних 50 итерациях: 0.36336719046036403 0.8720833\n",
            "Средние train лосс и accuracy на последних 50 итерациях: 0.36894668873399494 0.869375\n",
            "Средние train лосс и accuracy на последних 50 итерациях: 0.383608265966177 0.86396873\n",
            "Средние train лосс и accuracy на последних 50 итерациях: 0.3926504154254993 0.860599\n",
            "Эпоха 15/25: val лосс и accuracy: 1.179391467647188 0.6531\n",
            "Epoch: 16\n",
            "Средние train лосс и accuracy на последних 50 итерациях: 0.3121074931323528 0.8932812\n",
            "Средние train лосс и accuracy на последних 50 итерациях: 0.3068313806131482 0.8950781\n",
            "Средние train лосс и accuracy на последних 50 итерациях: 0.31844817437231543 0.88989586\n",
            "Средние train лосс и accuracy на последних 50 итерациях: 0.32785045804455876 0.88535154\n",
            "Средние train лосс и accuracy на последних 50 итерациях: 0.33675594110786916 0.8816875\n",
            "Средние train лосс и accuracy на последних 50 итерациях: 0.34071151396880545 0.8794531\n",
            "Эпоха 16/25: val лосс и accuracy: 1.176968592747002 0.6597\n",
            "Epoch: 17\n",
            "Средние train лосс и accuracy на последних 50 итерациях: 0.23597309030592442 0.925\n",
            "Средние train лосс и accuracy на последних 50 итерациях: 0.2518690063431859 0.915625\n",
            "Средние train лосс и accuracy на последних 50 итерациях: 0.2590809308737516 0.91234374\n",
            "Средние train лосс и accuracy на последних 50 итерациях: 0.2723659873940051 0.90628904\n",
            "Средние train лосс и accuracy на последних 50 итерациях: 0.2880444610565901 0.8999063\n",
            "Средние train лосс и accuracy на последних 50 итерациях: 0.29672283578664066 0.8961458\n",
            "Эпоха 17/25: val лосс и accuracy: 1.3836492558193814 0.6378\n",
            "Epoch: 18\n",
            "Средние train лосс и accuracy на последних 50 итерациях: 0.20798286333680152 0.93296874\n",
            "Средние train лосс и accuracy на последних 50 итерациях: 0.22098370783030988 0.92640626\n",
            "Средние train лосс и accuracy на последних 50 итерациях: 0.22959764023621876 0.92307293\n",
            "Средние train лосс и accuracy на последних 50 итерациях: 0.23668741008266805 0.9198047\n",
            "Средние train лосс и accuracy на последних 50 итерациях: 0.24431147640943526 0.9162812\n",
            "Средние train лосс и accuracy на последних 50 итерациях: 0.2532343905419111 0.9116927\n",
            "Эпоха 18/25: val лосс и accuracy: 1.337154029281276 0.6507\n",
            "Epoch: 19\n",
            "Средние train лосс и accuracy на последних 50 итерациях: 0.17892697431147098 0.9415625\n",
            "Средние train лосс и accuracy на последних 50 итерациях: 0.17872188940644265 0.9413281\n",
            "Средние train лосс и accuracy на последних 50 итерациях: 0.18788062433401745 0.93796873\n",
            "Средние train лосс и accuracy на последних 50 итерациях: 0.19674933971837164 0.9335156\n",
            "Средние train лосс и accuracy на последних 50 итерациях: 0.2036414250433445 0.9309375\n",
            "Средние train лосс и accuracy на последних 50 итерациях: 0.2133082726225257 0.9266406\n",
            "Эпоха 19/25: val лосс и accuracy: 1.4374720514959591 0.6447\n",
            "Epoch: 20\n",
            "Средние train лосс и accuracy на последних 50 итерациях: 0.15017081163823603 0.9540625\n",
            "Средние train лосс и accuracy на последних 50 итерациях: 0.1582042518630624 0.94820315\n",
            "Средние train лосс и accuracy на последних 50 итерациях: 0.1614188517133395 0.9458854\n",
            "Средние train лосс и accuracy на последних 50 итерациях: 0.16886400612071156 0.94304687\n",
            "Средние train лосс и accuracy на последних 50 итерациях: 0.17528818233311177 0.94009376\n",
            "Средние train лосс и accuracy на последних 50 итерациях: 0.18453414113571245 0.93578124\n",
            "Эпоха 20/25: val лосс и accuracy: 1.555922075821336 0.6396\n",
            "Epoch: 21\n",
            "Средние train лосс и accuracy на последних 50 итерациях: 0.13615865781903266 0.95671874\n",
            "Средние train лосс и accuracy на последних 50 итерациях: 0.13177696468308567 0.95820314\n",
            "Средние train лосс и accuracy на последних 50 итерациях: 0.14652167741209268 0.9507292\n",
            "Средние train лосс и accuracy на последних 50 итерациях: 0.15728282216005027 0.9465625\n",
            "Средние train лосс и accuracy на последних 50 итерациях: 0.16589117383211852 0.943\n",
            "Средние train лосс и accuracy на последних 50 итерациях: 0.1690365021241208 0.9417448\n",
            "Эпоха 21/25: val лосс и accuracy: 1.6311039423486988 0.6338\n",
            "Epoch: 22\n",
            "Средние train лосс и accuracy на последних 50 итерациях: 0.13041838947683573 0.95953125\n",
            "Средние train лосс и accuracy на последних 50 итерациях: 0.1295517884939909 0.9585937\n",
            "Средние train лосс и accuracy на последних 50 итерациях: 0.12824746629844108 0.959375\n",
            "Средние train лосс и accuracy на последних 50 итерациях: 0.12976758187636733 0.95773435\n",
            "Средние train лосс и accuracy на последних 50 итерациях: 0.13656368001550437 0.95540625\n",
            "Средние train лосс и accuracy на последних 50 итерациях: 0.1398179119763275 0.9535677\n",
            "Эпоха 22/25: val лосс и accuracy: 1.6333743364188322 0.6463\n",
            "Epoch: 23\n",
            "Средние train лосс и accuracy на последних 50 итерациях: 0.11904105488210917 0.96046877\n",
            "Средние train лосс и accuracy на последних 50 итерациях: 0.11034727877005934 0.96382815\n",
            "Средние train лосс и accuracy на последних 50 итерациях: 0.10845126715178291 0.96442705\n",
            "Средние train лосс и accuracy на последних 50 итерациях: 0.10984357588458807 0.9634375\n",
            "Средние train лосс и accuracy на последних 50 итерациях: 0.11863406750932336 0.95934373\n",
            "Средние train лосс и accuracy на последних 50 итерациях: 0.1257729053714623 0.95625\n",
            "Эпоха 23/25: val лосс и accuracy: 1.7259343794197033 0.6452\n",
            "Epoch: 24\n",
            "Средние train лосс и accuracy на последних 50 итерациях: 0.09128586554899812 0.97015625\n",
            "Средние train лосс и accuracy на последних 50 итерациях: 0.08892416809685529 0.9714062\n",
            "Средние train лосс и accuracy на последних 50 итерациях: 0.0917200693488121 0.9708854\n",
            "Средние train лосс и accuracy на последних 50 итерациях: 0.09267218615859747 0.9705078\n",
            "Средние train лосс и accuracy на последних 50 итерациях: 0.09361253049224615 0.97003126\n",
            "Средние train лосс и accuracy на последних 50 итерациях: 0.09779380644361178 0.96828127\n",
            "Эпоха 24/25: val лосс и accuracy: 1.901441347826818 0.6306\n",
            "Epoch: 25\n",
            "Средние train лосс и accuracy на последних 50 итерациях: 0.06914619374088943 0.9803125\n",
            "Средние train лосс и accuracy на последних 50 итерациях: 0.06933474377263338 0.979375\n",
            "Средние train лосс и accuracy на последних 50 итерациях: 0.0749068146230032 0.9766146\n",
            "Средние train лосс и accuracy на последних 50 итерациях: 0.0793287637992762 0.9747656\n",
            "Средние train лосс и accuracy на последних 50 итерациях: 0.08210480636171996 0.97325\n",
            "Средние train лосс и accuracy на последних 50 итерациях: 0.0836647235089913 0.97270834\n",
            "Эпоха 25/25: val лосс и accuracy: 1.8182526147289642 0.6563\n"
          ]
        }
      ]
    },
    {
      "cell_type": "markdown",
      "source": [
        "### Получение метрики качества на тестовой выборке"
      ],
      "metadata": {
        "id": "J-0bg_d9mQJc"
      }
    },
    {
      "cell_type": "code",
      "execution_count": null,
      "metadata": {
        "id": "5fdsfmmGUntS",
        "colab": {
          "base_uri": "https://localhost:8080/"
        },
        "outputId": "54eef9d2-f59c-4abc-9f0e-4a12d2e3e56d"
      },
      "outputs": [
        {
          "output_type": "stream",
          "name": "stdout",
          "text": [
            "Accuracy на тесте 0.6596\n"
          ]
        }
      ],
      "source": [
        "test_accuracy, _ = evaluate(model, test_loader, loss_fn)\n",
        "print('Accuracy на тесте', test_accuracy)"
      ]
    },
    {
      "cell_type": "markdown",
      "source": [
        "Вы можете экспериментировать с разным устройством архитектуры нейросети и запускать ее обучение и проверять accuracy на тесте с помощью трех ячеек выше. Когда вы получили нужное значение accuracy на тесте, можете сдавать задание на Я.Контест."
      ],
      "metadata": {
        "id": "mTWg3rx7oigY"
      }
    },
    {
      "cell_type": "markdown",
      "metadata": {
        "id": "s1lUTTanUntT"
      },
      "source": [
        "Проверка, что необходимые пороги пройдены:"
      ]
    },
    {
      "cell_type": "code",
      "execution_count": null,
      "metadata": {
        "id": "h0D82xfkUntT",
        "colab": {
          "base_uri": "https://localhost:8080/"
        },
        "outputId": "293adc51-87d1-40ed-ef5b-032469f31d99"
      },
      "outputs": [
        {
          "output_type": "stream",
          "name": "stdout",
          "text": [
            "Качество на тесте выше 0.56, 1 балл\n"
          ]
        }
      ],
      "source": [
        "if test_accuracy <= 0.5:\n",
        "    print(\"Качество на тесте ниже 0.5, 0 баллов\")\n",
        "elif test_accuracy < 0.56:\n",
        "    print(\"Качество на тесте между 0.5 и 0.56, 0.5 баллов\")\n",
        "elif test_accuracy >= 0.56:\n",
        "    print(\"Качество на тесте выше 0.56, 1 балл\")"
      ]
    },
    {
      "cell_type": "markdown",
      "metadata": {
        "id": "jaaib09bUntU"
      },
      "source": [
        "### Сдача задания\n",
        "Запустите код ниже для генерации посылки. Полученный файл сдайте в Я.Контест в качестве решения."
      ]
    },
    {
      "cell_type": "code",
      "execution_count": null,
      "metadata": {
        "id": "gnLPac1NUntV",
        "colab": {
          "base_uri": "https://localhost:8080/"
        },
        "outputId": "967e8d3b-d50e-4dc7-ca2a-b3e5c80c6a31"
      },
      "outputs": [
        {
          "output_type": "stream",
          "name": "stdout",
          "text": [
            "Ответ сохранен в файл `submission_hw04.npy`\n"
          ]
        }
      ],
      "source": [
        "import os\n",
        "\n",
        "def get_predictions(model, dataloader):\n",
        "    \n",
        "    predicted_labels = []\n",
        "    model.eval()\n",
        "    predicted_labels = []\n",
        "\n",
        "    for i, batch in enumerate(dataloader):\n",
        "        \n",
        "        # так получаем текущий батч\n",
        "        X_batch, y_batch = batch\n",
        "        \n",
        "        with torch.no_grad():\n",
        "            logits = model(X_batch.to(device))\n",
        "            y_pred = torch.argmax(logits, dim=1)\n",
        "            predicted_labels.append(y_pred)\n",
        "    \n",
        "    predicted_labels = torch.cat(predicted_labels)\n",
        "    return predicted_labels\n",
        "\n",
        "predicted_labels = get_predictions(model, test_loader)\n",
        "\n",
        "np.save('submission_hw04.npy', predicted_labels.data.cpu().numpy(), allow_pickle=True)\n",
        "print('Ответ сохранен в файл `submission_hw04.npy`')"
      ]
    },
    {
      "cell_type": "markdown",
      "metadata": {
        "id": "szdg0viDUntW"
      },
      "source": [
        "На этом задание завершено. Поздравляем!"
      ]
    }
  ],
  "metadata": {
    "kernelspec": {
      "display_name": "Py3 Research",
      "language": "python",
      "name": "py3_research"
    },
    "language_info": {
      "codemirror_mode": {
        "name": "ipython",
        "version": 3
      },
      "file_extension": ".py",
      "mimetype": "text/x-python",
      "name": "python",
      "nbconvert_exporter": "python",
      "pygments_lexer": "ipython3",
      "version": "3.7.10"
    },
    "colab": {
      "provenance": [],
      "include_colab_link": true
    },
    "accelerator": "GPU",
    "widgets": {
      "application/vnd.jupyter.widget-state+json": {
        "d0df1dfcd7654d3080a6002907847e4b": {
          "model_module": "@jupyter-widgets/controls",
          "model_name": "HBoxModel",
          "model_module_version": "1.5.0",
          "state": {
            "_dom_classes": [],
            "_model_module": "@jupyter-widgets/controls",
            "_model_module_version": "1.5.0",
            "_model_name": "HBoxModel",
            "_view_count": null,
            "_view_module": "@jupyter-widgets/controls",
            "_view_module_version": "1.5.0",
            "_view_name": "HBoxView",
            "box_style": "",
            "children": [
              "IPY_MODEL_fdb34af829ba4a60988b24b4d240c1c5",
              "IPY_MODEL_5a12a372a5844bfcad4f54aef64f2461",
              "IPY_MODEL_4d7cd5b4fbb94b82ba186bd1486b3015"
            ],
            "layout": "IPY_MODEL_7cba8b8957fc4459ad0cf6dfcf7590d1"
          }
        },
        "fdb34af829ba4a60988b24b4d240c1c5": {
          "model_module": "@jupyter-widgets/controls",
          "model_name": "HTMLModel",
          "model_module_version": "1.5.0",
          "state": {
            "_dom_classes": [],
            "_model_module": "@jupyter-widgets/controls",
            "_model_module_version": "1.5.0",
            "_model_name": "HTMLModel",
            "_view_count": null,
            "_view_module": "@jupyter-widgets/controls",
            "_view_module_version": "1.5.0",
            "_view_name": "HTMLView",
            "description": "",
            "description_tooltip": null,
            "layout": "IPY_MODEL_06431975dd574ceea76fe6f0f55b1ab8",
            "placeholder": "​",
            "style": "IPY_MODEL_da47fc769c284ab985ac724922aa9cd0",
            "value": "100%"
          }
        },
        "5a12a372a5844bfcad4f54aef64f2461": {
          "model_module": "@jupyter-widgets/controls",
          "model_name": "FloatProgressModel",
          "model_module_version": "1.5.0",
          "state": {
            "_dom_classes": [],
            "_model_module": "@jupyter-widgets/controls",
            "_model_module_version": "1.5.0",
            "_model_name": "FloatProgressModel",
            "_view_count": null,
            "_view_module": "@jupyter-widgets/controls",
            "_view_module_version": "1.5.0",
            "_view_name": "ProgressView",
            "bar_style": "success",
            "description": "",
            "description_tooltip": null,
            "layout": "IPY_MODEL_ee9407eae5a4452097bd72e46adbedcd",
            "max": 170498071,
            "min": 0,
            "orientation": "horizontal",
            "style": "IPY_MODEL_38fb002aa6884667aba2c31ef01a1a40",
            "value": 170498071
          }
        },
        "4d7cd5b4fbb94b82ba186bd1486b3015": {
          "model_module": "@jupyter-widgets/controls",
          "model_name": "HTMLModel",
          "model_module_version": "1.5.0",
          "state": {
            "_dom_classes": [],
            "_model_module": "@jupyter-widgets/controls",
            "_model_module_version": "1.5.0",
            "_model_name": "HTMLModel",
            "_view_count": null,
            "_view_module": "@jupyter-widgets/controls",
            "_view_module_version": "1.5.0",
            "_view_name": "HTMLView",
            "description": "",
            "description_tooltip": null,
            "layout": "IPY_MODEL_970b6687994441c8bd745e9b7e812e07",
            "placeholder": "​",
            "style": "IPY_MODEL_1e84fb1b3d33438aa190e1aacd99a97b",
            "value": " 170498071/170498071 [00:13&lt;00:00, 13710871.08it/s]"
          }
        },
        "7cba8b8957fc4459ad0cf6dfcf7590d1": {
          "model_module": "@jupyter-widgets/base",
          "model_name": "LayoutModel",
          "model_module_version": "1.2.0",
          "state": {
            "_model_module": "@jupyter-widgets/base",
            "_model_module_version": "1.2.0",
            "_model_name": "LayoutModel",
            "_view_count": null,
            "_view_module": "@jupyter-widgets/base",
            "_view_module_version": "1.2.0",
            "_view_name": "LayoutView",
            "align_content": null,
            "align_items": null,
            "align_self": null,
            "border": null,
            "bottom": null,
            "display": null,
            "flex": null,
            "flex_flow": null,
            "grid_area": null,
            "grid_auto_columns": null,
            "grid_auto_flow": null,
            "grid_auto_rows": null,
            "grid_column": null,
            "grid_gap": null,
            "grid_row": null,
            "grid_template_areas": null,
            "grid_template_columns": null,
            "grid_template_rows": null,
            "height": null,
            "justify_content": null,
            "justify_items": null,
            "left": null,
            "margin": null,
            "max_height": null,
            "max_width": null,
            "min_height": null,
            "min_width": null,
            "object_fit": null,
            "object_position": null,
            "order": null,
            "overflow": null,
            "overflow_x": null,
            "overflow_y": null,
            "padding": null,
            "right": null,
            "top": null,
            "visibility": null,
            "width": null
          }
        },
        "06431975dd574ceea76fe6f0f55b1ab8": {
          "model_module": "@jupyter-widgets/base",
          "model_name": "LayoutModel",
          "model_module_version": "1.2.0",
          "state": {
            "_model_module": "@jupyter-widgets/base",
            "_model_module_version": "1.2.0",
            "_model_name": "LayoutModel",
            "_view_count": null,
            "_view_module": "@jupyter-widgets/base",
            "_view_module_version": "1.2.0",
            "_view_name": "LayoutView",
            "align_content": null,
            "align_items": null,
            "align_self": null,
            "border": null,
            "bottom": null,
            "display": null,
            "flex": null,
            "flex_flow": null,
            "grid_area": null,
            "grid_auto_columns": null,
            "grid_auto_flow": null,
            "grid_auto_rows": null,
            "grid_column": null,
            "grid_gap": null,
            "grid_row": null,
            "grid_template_areas": null,
            "grid_template_columns": null,
            "grid_template_rows": null,
            "height": null,
            "justify_content": null,
            "justify_items": null,
            "left": null,
            "margin": null,
            "max_height": null,
            "max_width": null,
            "min_height": null,
            "min_width": null,
            "object_fit": null,
            "object_position": null,
            "order": null,
            "overflow": null,
            "overflow_x": null,
            "overflow_y": null,
            "padding": null,
            "right": null,
            "top": null,
            "visibility": null,
            "width": null
          }
        },
        "da47fc769c284ab985ac724922aa9cd0": {
          "model_module": "@jupyter-widgets/controls",
          "model_name": "DescriptionStyleModel",
          "model_module_version": "1.5.0",
          "state": {
            "_model_module": "@jupyter-widgets/controls",
            "_model_module_version": "1.5.0",
            "_model_name": "DescriptionStyleModel",
            "_view_count": null,
            "_view_module": "@jupyter-widgets/base",
            "_view_module_version": "1.2.0",
            "_view_name": "StyleView",
            "description_width": ""
          }
        },
        "ee9407eae5a4452097bd72e46adbedcd": {
          "model_module": "@jupyter-widgets/base",
          "model_name": "LayoutModel",
          "model_module_version": "1.2.0",
          "state": {
            "_model_module": "@jupyter-widgets/base",
            "_model_module_version": "1.2.0",
            "_model_name": "LayoutModel",
            "_view_count": null,
            "_view_module": "@jupyter-widgets/base",
            "_view_module_version": "1.2.0",
            "_view_name": "LayoutView",
            "align_content": null,
            "align_items": null,
            "align_self": null,
            "border": null,
            "bottom": null,
            "display": null,
            "flex": null,
            "flex_flow": null,
            "grid_area": null,
            "grid_auto_columns": null,
            "grid_auto_flow": null,
            "grid_auto_rows": null,
            "grid_column": null,
            "grid_gap": null,
            "grid_row": null,
            "grid_template_areas": null,
            "grid_template_columns": null,
            "grid_template_rows": null,
            "height": null,
            "justify_content": null,
            "justify_items": null,
            "left": null,
            "margin": null,
            "max_height": null,
            "max_width": null,
            "min_height": null,
            "min_width": null,
            "object_fit": null,
            "object_position": null,
            "order": null,
            "overflow": null,
            "overflow_x": null,
            "overflow_y": null,
            "padding": null,
            "right": null,
            "top": null,
            "visibility": null,
            "width": null
          }
        },
        "38fb002aa6884667aba2c31ef01a1a40": {
          "model_module": "@jupyter-widgets/controls",
          "model_name": "ProgressStyleModel",
          "model_module_version": "1.5.0",
          "state": {
            "_model_module": "@jupyter-widgets/controls",
            "_model_module_version": "1.5.0",
            "_model_name": "ProgressStyleModel",
            "_view_count": null,
            "_view_module": "@jupyter-widgets/base",
            "_view_module_version": "1.2.0",
            "_view_name": "StyleView",
            "bar_color": null,
            "description_width": ""
          }
        },
        "970b6687994441c8bd745e9b7e812e07": {
          "model_module": "@jupyter-widgets/base",
          "model_name": "LayoutModel",
          "model_module_version": "1.2.0",
          "state": {
            "_model_module": "@jupyter-widgets/base",
            "_model_module_version": "1.2.0",
            "_model_name": "LayoutModel",
            "_view_count": null,
            "_view_module": "@jupyter-widgets/base",
            "_view_module_version": "1.2.0",
            "_view_name": "LayoutView",
            "align_content": null,
            "align_items": null,
            "align_self": null,
            "border": null,
            "bottom": null,
            "display": null,
            "flex": null,
            "flex_flow": null,
            "grid_area": null,
            "grid_auto_columns": null,
            "grid_auto_flow": null,
            "grid_auto_rows": null,
            "grid_column": null,
            "grid_gap": null,
            "grid_row": null,
            "grid_template_areas": null,
            "grid_template_columns": null,
            "grid_template_rows": null,
            "height": null,
            "justify_content": null,
            "justify_items": null,
            "left": null,
            "margin": null,
            "max_height": null,
            "max_width": null,
            "min_height": null,
            "min_width": null,
            "object_fit": null,
            "object_position": null,
            "order": null,
            "overflow": null,
            "overflow_x": null,
            "overflow_y": null,
            "padding": null,
            "right": null,
            "top": null,
            "visibility": null,
            "width": null
          }
        },
        "1e84fb1b3d33438aa190e1aacd99a97b": {
          "model_module": "@jupyter-widgets/controls",
          "model_name": "DescriptionStyleModel",
          "model_module_version": "1.5.0",
          "state": {
            "_model_module": "@jupyter-widgets/controls",
            "_model_module_version": "1.5.0",
            "_model_name": "DescriptionStyleModel",
            "_view_count": null,
            "_view_module": "@jupyter-widgets/base",
            "_view_module_version": "1.2.0",
            "_view_name": "StyleView",
            "description_width": ""
          }
        }
      }
    },
    "gpuClass": "standard"
  },
  "nbformat": 4,
  "nbformat_minor": 0
}